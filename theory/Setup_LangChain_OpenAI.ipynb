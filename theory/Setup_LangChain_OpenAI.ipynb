{
 "cells": [
  {
   "cell_type": "markdown",
   "id": "3df1bece-18a6-49ca-b557-e30b535da0d0",
   "metadata": {},
   "source": [
    "# Setting Up Virtual Environment (venv)\n",
    "\n",
    "1. **Navigate to Project Folder**: cd <your_project_folder>\n",
    "2. **Create Virtual Environment**: python -m venv venv\n",
    "3. **Activate Virtual Environment**:\n",
    "   - **Windows**:\n",
    "     .\\venv\\Scripts\\activate\n",
    "4. **Install Required Libraries**: pip install openai langchain notebook\n",
    "5. **Create a new .ipynb file** (e.g., LLM_with_LangChain.ipynb)."
   ]
  },
  {
   "cell_type": "markdown",
   "id": "5831aafc-c1fb-462a-bd47-40a2b0743634",
   "metadata": {},
   "source": [
    "## LangChain + OpenAI Setup Guide\n",
    "\n",
    "1. **Create an OpenAI Account**  \n",
    "2. **Generate an API Key**  \n",
    "- Navigate to → \"API keys\" → \"Create new secret key\"\n",
    "- Copy and store the key securely — it won't be shown again, so save it wisely."
   ]
  },
  {
   "cell_type": "markdown",
   "id": "f218a770-9410-4200-97a3-a28322341fc7",
   "metadata": {},
   "source": [
    "## Securely Load Your API Key\n",
    "To avoid hardcoding your OpenAI API key inside the notebook (which can be risky if uploaded to GitHub).\n",
    "Do NOT share or upload this file anywhere.\n",
    "- Create a new Python file in the same directory as your notebook called `secret_key.py`\n",
    "- Inside that file, paste the key like\n",
    ": openai_api_key = \"sk-xxxxxxxxxxxxxxxxxxxxxxxx\""
   ]
  },
  {
   "cell_type": "code",
   "execution_count": 12,
   "id": "3e4c7ae3-3eca-4ffb-ae86-a6a470a082a3",
   "metadata": {},
   "outputs": [],
   "source": [
    "## 6. Now Load the API Key in your notebook\n",
    "from secret_key import openai_api_key\n",
    "import os\n",
    "\n",
    "os.environ[\"OPENAI_API_KEY\"]=openai_api_key\n",
    "## os.environ is used to store key-value pairs as environment variables \n",
    "## But What are Environment variables? → they are like a dictionary where the key is \"OPENAI_API_KEY\" and the value is your API key. \n",
    "## This keeps the key secure.    \n",
    "\n",
    "\n",
    "import openai\n",
    "openai.api_key=os.getenv(\"OPENAI_API_KEY\")\n",
    "## This is how we retrieve the stored value of OPENAI_API_KEY using os.getenv() and assigns it to openai.api_key. \n",
    "## This ensures you are using the key securely in the OpenAI API calls.\n"
   ]
  },
  {
   "cell_type": "code",
   "execution_count": 1,
   "id": "f7b9ea14-68b7-40c6-9bb3-767229d9572f",
   "metadata": {},
   "outputs": [
    {
     "name": "stdout",
     "output_type": "stream",
     "text": [
      "All good!\n"
     ]
    }
   ],
   "source": [
    "import openai\n",
    "import langchain\n",
    "\n",
    "print(\"All good!\")\n"
   ]
  },
  {
   "cell_type": "code",
   "execution_count": null,
   "id": "a4a1474f-154f-4c51-bcf8-70aa97b35e32",
   "metadata": {},
   "outputs": [],
   "source": []
  }
 ],
 "metadata": {
  "kernelspec": {
   "display_name": "myvenv",
   "language": "python",
   "name": "myvenv"
  },
  "language_info": {
   "codemirror_mode": {
    "name": "ipython",
    "version": 3
   },
   "file_extension": ".py",
   "mimetype": "text/x-python",
   "name": "python",
   "nbconvert_exporter": "python",
   "pygments_lexer": "ipython3",
   "version": "3.13.2"
  }
 },
 "nbformat": 4,
 "nbformat_minor": 5
}
